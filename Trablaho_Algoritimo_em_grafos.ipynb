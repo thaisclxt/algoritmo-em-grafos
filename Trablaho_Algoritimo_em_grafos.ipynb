{
  "cells": [
    {
      "cell_type": "code",
      "execution_count": null,
      "metadata": {
        "colab": {
          "base_uri": "https://localhost:8080/"
        },
        "id": "gG1ByMM5vAJ_",
        "outputId": "1c588101-042d-4af1-ca30-f39386cb45fc"
      },
      "outputs": [
        {
          "name": "stdout",
          "output_type": "stream",
          "text": [
            "Ordenação: ['A', 'B', 'C', 'D', 'E', 'F']\n",
            "Ordenação: ['A', 'B', 'C', 'E', 'D', 'F']\n",
            "Ordenação: ['A', 'B', 'C', 'E', 'F', 'D']\n",
            "Ordenação: ['A', 'C', 'B', 'D', 'E', 'F']\n",
            "Ordenação: ['A', 'C', 'B', 'E', 'D', 'F']\n",
            "Ordenação: ['A', 'C', 'B', 'E', 'F', 'D']\n",
            "Ordenação: ['A', 'C', 'E', 'B', 'D', 'F']\n",
            "Ordenação: ['A', 'C', 'E', 'B', 'F', 'D']\n",
            "Ordenação: ['A', 'C', 'E', 'F', 'B', 'D']\n"
          ]
        }
      ],
      "source": [
        "from collections import deque, defaultdict\n",
        "\n",
        "def topological_sort(graph):\n",
        "    num_vertices = len(graph)\n",
        "    indegree = defaultdict(int)\n",
        "    result = []\n",
        "    visited = set()\n",
        "\n",
        "    for u in graph:\n",
        "        for v in graph[u]:\n",
        "            indegree[v] += 1\n",
        "\n",
        "    def dfs():\n",
        "        nonlocal result\n",
        "        if len(result) == num_vertices:\n",
        "            print(\"Ordenação:\", result)\n",
        "            return\n",
        "\n",
        "        for u in graph:\n",
        "            if indegree[u] == 0 and u not in visited:\n",
        "                visited.add(u)\n",
        "                result.append(u)\n",
        "\n",
        "                for v in graph[u]:\n",
        "                    indegree[v] -= 1\n",
        "\n",
        "                dfs()\n",
        "\n",
        "                visited.remove(u)\n",
        "                result.pop()\n",
        "\n",
        "                for v in graph[u]:\n",
        "                    indegree[v] += 1\n",
        "\n",
        "    dfs()\n",
        "\n",
        "# Exemplo de uso\n",
        "graph = {\n",
        "    'A': ['B', 'C'],\n",
        "    'B': ['D'],\n",
        "    'C': ['D', 'E'],\n",
        "    'D': [],\n",
        "    'E': ['F'],\n",
        "    'F': []\n",
        "}\n",
        "\n",
        "topological_sort(graph)\n"
      ]
    },
    {
      "cell_type": "code",
      "execution_count": null,
      "metadata": {},
      "outputs": [],
      "source": [
        "\n"
      ]
    }
  ],
  "metadata": {
    "colab": {
      "provenance": []
    },
    "kernelspec": {
      "display_name": "Python 3",
      "name": "python3"
    },
    "language_info": {
      "name": "python",
      "version": "3.11.4"
    }
  },
  "nbformat": 4,
  "nbformat_minor": 0
}
